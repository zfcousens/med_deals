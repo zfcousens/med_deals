{
 "metadata": {
  "name": "",
  "signature": "sha256:bc448c00fe21fc00e2267469ac7950776acba760807eccb00fed398ee1597e90"
 },
 "nbformat": 3,
 "nbformat_minor": 0,
 "worksheets": [
  {
   "cells": [
    {
     "cell_type": "code",
     "collapsed": false,
     "input": [
      "# Import Pandas, Numpy, Matplotlib, and Sqlite3\n",
      "import pandas as pd\n",
      "import numpy as np\n",
      "#import matplotlib.pyplot as plt\n",
      "import sqlite3\n",
      "from seaborn import plt\n",
      "from matplotlib.dates import date2num, num2date\n",
      "\n",
      "# This enables inline Plots\n",
      "%matplotlib inline\n",
      "\n",
      "# Limit rows displayed in notebook\n",
      "pd.set_option('display.max_rows', 10)\n",
      "pd.set_option('display.precision', 2)"
     ],
     "language": "python",
     "metadata": {},
     "outputs": [],
     "prompt_number": 1
    },
    {
     "cell_type": "code",
     "collapsed": false,
     "input": [
      "data_file = 'C:\\git\\working\\DAT_SF_12\\Project\\Medtrack_Deals-AllDeals_21Jan2015.csv'\n",
      "#Add new column names, initial col names had spaces and slashes\n",
      "df_cols = ['date', 'type', 'category', 'source', 'investor', 'indication', 'industry', 'value', 'headline', 'status']\n",
      "df = pd.read_csv(data_file, sep=',', names = df_cols)\n",
      "#Remove initial col names, anything w/o date\n",
      "df = df[1:].dropna(subset=['date'])\n",
      "df.head()"
     ],
     "language": "python",
     "metadata": {},
     "outputs": [
      {
       "html": [
        "<div style=\"max-height:1000px;max-width:1500px;overflow:auto;\">\n",
        "<table border=\"1\" class=\"dataframe\">\n",
        "  <thead>\n",
        "    <tr style=\"text-align: right;\">\n",
        "      <th></th>\n",
        "      <th>date</th>\n",
        "      <th>type</th>\n",
        "      <th>category</th>\n",
        "      <th>source</th>\n",
        "      <th>investor</th>\n",
        "      <th>indication</th>\n",
        "      <th>industry</th>\n",
        "      <th>value</th>\n",
        "      <th>headline</th>\n",
        "      <th>status</th>\n",
        "    </tr>\n",
        "  </thead>\n",
        "  <tbody>\n",
        "    <tr>\n",
        "      <th>1</th>\n",
        "      <td> 1/20/2015</td>\n",
        "      <td> Public Offering</td>\n",
        "      <td> Miscellaneous</td>\n",
        "      <td>             Intrexon Corporation</td>\n",
        "      <td>                                                --</td>\n",
        "      <td>                                                --</td>\n",
        "      <td> Pharmaceuticals and Biotechnology--&gt;Biopharmac...</td>\n",
        "      <td>   150</td>\n",
        "      <td> Intrexon announces public offering of common s...</td>\n",
        "      <td> Announced</td>\n",
        "    </tr>\n",
        "    <tr>\n",
        "      <th>2</th>\n",
        "      <td> 1/20/2015</td>\n",
        "      <td> Public Offering</td>\n",
        "      <td> Miscellaneous</td>\n",
        "      <td>                         K2M, LLC</td>\n",
        "      <td> |Ferrer Freeman &amp; Company, LLC|Welsh, Carson, ...</td>\n",
        "      <td>                                                --</td>\n",
        "      <td>                                   Medical Devices</td>\n",
        "      <td> 143.2</td>\n",
        "      <td> K2M Group Holdings announces public offering o...</td>\n",
        "      <td> Announced</td>\n",
        "    </tr>\n",
        "    <tr>\n",
        "      <th>3</th>\n",
        "      <td> 1/20/2015</td>\n",
        "      <td> Public Offering</td>\n",
        "      <td> Miscellaneous</td>\n",
        "      <td>   Keryx Biopharmaceuticals, Inc.</td>\n",
        "      <td>                                                --</td>\n",
        "      <td>                                                --</td>\n",
        "      <td> Pharmaceuticals and Biotechnology--&gt;Biopharmac...</td>\n",
        "      <td>   100</td>\n",
        "      <td> Keryx Biopharmaceuticals announces public offe...</td>\n",
        "      <td> Announced</td>\n",
        "    </tr>\n",
        "    <tr>\n",
        "      <th>4</th>\n",
        "      <td> 1/20/2015</td>\n",
        "      <td>     Partnership</td>\n",
        "      <td>       Product</td>\n",
        "      <td> Nerviano Medical Sciences S.r.l.</td>\n",
        "      <td>                         Tiziana Life Sciences PLC</td>\n",
        "      <td> Breast Cancer,Hepatocellular Carcinoma,Oncolog...</td>\n",
        "      <td> Pharmaceuticals and Biotechnology--&gt;Biopharmac...</td>\n",
        "      <td>  41.7</td>\n",
        "      <td> Tiziana Life Sciences licenses milciclib from ...</td>\n",
        "      <td> Announced</td>\n",
        "    </tr>\n",
        "    <tr>\n",
        "      <th>5</th>\n",
        "      <td> 1/20/2015</td>\n",
        "      <td> Public Offering</td>\n",
        "      <td> Miscellaneous</td>\n",
        "      <td>                   Verastem, Inc.</td>\n",
        "      <td>                                                --</td>\n",
        "      <td>                                                --</td>\n",
        "      <td> Pharmaceuticals and Biotechnology--&gt;Biopharmac...</td>\n",
        "      <td>    40</td>\n",
        "      <td> Verastem announces public offering of common s...</td>\n",
        "      <td> Announced</td>\n",
        "    </tr>\n",
        "  </tbody>\n",
        "</table>\n",
        "</div>"
       ],
       "metadata": {},
       "output_type": "pyout",
       "prompt_number": 310,
       "text": [
        "        date             type       category  \\\n",
        "1  1/20/2015  Public Offering  Miscellaneous   \n",
        "2  1/20/2015  Public Offering  Miscellaneous   \n",
        "3  1/20/2015  Public Offering  Miscellaneous   \n",
        "4  1/20/2015      Partnership        Product   \n",
        "5  1/20/2015  Public Offering  Miscellaneous   \n",
        "\n",
        "                             source  \\\n",
        "1              Intrexon Corporation   \n",
        "2                          K2M, LLC   \n",
        "3    Keryx Biopharmaceuticals, Inc.   \n",
        "4  Nerviano Medical Sciences S.r.l.   \n",
        "5                    Verastem, Inc.   \n",
        "\n",
        "                                            investor  \\\n",
        "1                                                 --   \n",
        "2  |Ferrer Freeman & Company, LLC|Welsh, Carson, ...   \n",
        "3                                                 --   \n",
        "4                          Tiziana Life Sciences PLC   \n",
        "5                                                 --   \n",
        "\n",
        "                                          indication  \\\n",
        "1                                                 --   \n",
        "2                                                 --   \n",
        "3                                                 --   \n",
        "4  Breast Cancer,Hepatocellular Carcinoma,Oncolog...   \n",
        "5                                                 --   \n",
        "\n",
        "                                            industry  value  \\\n",
        "1  Pharmaceuticals and Biotechnology-->Biopharmac...    150   \n",
        "2                                    Medical Devices  143.2   \n",
        "3  Pharmaceuticals and Biotechnology-->Biopharmac...    100   \n",
        "4  Pharmaceuticals and Biotechnology-->Biopharmac...   41.7   \n",
        "5  Pharmaceuticals and Biotechnology-->Biopharmac...     40   \n",
        "\n",
        "                                            headline     status  \n",
        "1  Intrexon announces public offering of common s...  Announced  \n",
        "2  K2M Group Holdings announces public offering o...  Announced  \n",
        "3  Keryx Biopharmaceuticals announces public offe...  Announced  \n",
        "4  Tiziana Life Sciences licenses milciclib from ...  Announced  \n",
        "5  Verastem announces public offering of common s...  Announced  "
       ]
      }
     ],
     "prompt_number": 310
    },
    {
     "cell_type": "code",
     "collapsed": false,
     "input": [
      "df.source.unique()"
     ],
     "language": "python",
     "metadata": {},
     "outputs": [
      {
       "ename": "NameError",
       "evalue": "name 'df' is not defined",
       "output_type": "pyerr",
       "traceback": [
        "\u001b[1;31m---------------------------------------------------------------------------\u001b[0m\n\u001b[1;31mNameError\u001b[0m                                 Traceback (most recent call last)",
        "\u001b[1;32m<ipython-input-2-9c897c8a2a1f>\u001b[0m in \u001b[0;36m<module>\u001b[1;34m()\u001b[0m\n\u001b[1;32m----> 1\u001b[1;33m \u001b[0mdf\u001b[0m\u001b[1;33m.\u001b[0m\u001b[0msource\u001b[0m\u001b[1;33m.\u001b[0m\u001b[0munique\u001b[0m\u001b[1;33m(\u001b[0m\u001b[1;33m)\u001b[0m\u001b[1;33m\u001b[0m\u001b[0m\n\u001b[0m",
        "\u001b[1;31mNameError\u001b[0m: name 'df' is not defined"
       ]
      }
     ],
     "prompt_number": 2
    },
    {
     "cell_type": "code",
     "collapsed": false,
     "input": [
      "from datetime import datetime\n",
      "dt_dates = map(lambda x: datetime.strptime(x,'%m/%d/%Y'), df.date)\n",
      "years = [x.year for x in dt_dates]"
     ],
     "language": "python",
     "metadata": {},
     "outputs": [],
     "prompt_number": 331
    },
    {
     "cell_type": "code",
     "collapsed": false,
     "input": [
      "#Set value to number\n",
      "num_vals = [float(v) for v in df.value]\n",
      "df['value'] = num_vals"
     ],
     "language": "python",
     "metadata": {},
     "outputs": [],
     "prompt_number": 312
    },
    {
     "cell_type": "code",
     "collapsed": false,
     "input": [
      "#Make new column w/ numeric dates\n",
      "num_dates = [date2num(d) for d in dt_dates]\n",
      "df['n_dates'] = num_dates\n",
      "df['years'] = years\n",
      "df.head()"
     ],
     "language": "python",
     "metadata": {},
     "outputs": [
      {
       "html": [
        "<div style=\"max-height:1000px;max-width:1500px;overflow:auto;\">\n",
        "<table border=\"1\" class=\"dataframe\">\n",
        "  <thead>\n",
        "    <tr style=\"text-align: right;\">\n",
        "      <th></th>\n",
        "      <th>date</th>\n",
        "      <th>type</th>\n",
        "      <th>category</th>\n",
        "      <th>source</th>\n",
        "      <th>investor</th>\n",
        "      <th>indication</th>\n",
        "      <th>industry</th>\n",
        "      <th>value</th>\n",
        "      <th>headline</th>\n",
        "      <th>status</th>\n",
        "      <th>n_dates</th>\n",
        "      <th>years</th>\n",
        "    </tr>\n",
        "  </thead>\n",
        "  <tbody>\n",
        "    <tr>\n",
        "      <th>1</th>\n",
        "      <td> 1/20/2015</td>\n",
        "      <td> Public Offering</td>\n",
        "      <td> Miscellaneous</td>\n",
        "      <td>             Intrexon Corporation</td>\n",
        "      <td>                                                --</td>\n",
        "      <td>                                                --</td>\n",
        "      <td> Pharmaceuticals and Biotechnology--&gt;Biopharmac...</td>\n",
        "      <td> 150.0</td>\n",
        "      <td> Intrexon announces public offering of common s...</td>\n",
        "      <td> Announced</td>\n",
        "      <td> 735618</td>\n",
        "      <td> 2015</td>\n",
        "    </tr>\n",
        "    <tr>\n",
        "      <th>2</th>\n",
        "      <td> 1/20/2015</td>\n",
        "      <td> Public Offering</td>\n",
        "      <td> Miscellaneous</td>\n",
        "      <td>                         K2M, LLC</td>\n",
        "      <td> |Ferrer Freeman &amp; Company, LLC|Welsh, Carson, ...</td>\n",
        "      <td>                                                --</td>\n",
        "      <td>                                   Medical Devices</td>\n",
        "      <td> 143.2</td>\n",
        "      <td> K2M Group Holdings announces public offering o...</td>\n",
        "      <td> Announced</td>\n",
        "      <td> 735618</td>\n",
        "      <td> 2015</td>\n",
        "    </tr>\n",
        "    <tr>\n",
        "      <th>3</th>\n",
        "      <td> 1/20/2015</td>\n",
        "      <td> Public Offering</td>\n",
        "      <td> Miscellaneous</td>\n",
        "      <td>   Keryx Biopharmaceuticals, Inc.</td>\n",
        "      <td>                                                --</td>\n",
        "      <td>                                                --</td>\n",
        "      <td> Pharmaceuticals and Biotechnology--&gt;Biopharmac...</td>\n",
        "      <td> 100.0</td>\n",
        "      <td> Keryx Biopharmaceuticals announces public offe...</td>\n",
        "      <td> Announced</td>\n",
        "      <td> 735618</td>\n",
        "      <td> 2015</td>\n",
        "    </tr>\n",
        "    <tr>\n",
        "      <th>4</th>\n",
        "      <td> 1/20/2015</td>\n",
        "      <td>     Partnership</td>\n",
        "      <td>       Product</td>\n",
        "      <td> Nerviano Medical Sciences S.r.l.</td>\n",
        "      <td>                         Tiziana Life Sciences PLC</td>\n",
        "      <td> Breast Cancer,Hepatocellular Carcinoma,Oncolog...</td>\n",
        "      <td> Pharmaceuticals and Biotechnology--&gt;Biopharmac...</td>\n",
        "      <td>  41.7</td>\n",
        "      <td> Tiziana Life Sciences licenses milciclib from ...</td>\n",
        "      <td> Announced</td>\n",
        "      <td> 735618</td>\n",
        "      <td> 2015</td>\n",
        "    </tr>\n",
        "    <tr>\n",
        "      <th>5</th>\n",
        "      <td> 1/20/2015</td>\n",
        "      <td> Public Offering</td>\n",
        "      <td> Miscellaneous</td>\n",
        "      <td>                   Verastem, Inc.</td>\n",
        "      <td>                                                --</td>\n",
        "      <td>                                                --</td>\n",
        "      <td> Pharmaceuticals and Biotechnology--&gt;Biopharmac...</td>\n",
        "      <td>  40.0</td>\n",
        "      <td> Verastem announces public offering of common s...</td>\n",
        "      <td> Announced</td>\n",
        "      <td> 735618</td>\n",
        "      <td> 2015</td>\n",
        "    </tr>\n",
        "  </tbody>\n",
        "</table>\n",
        "</div>"
       ],
       "metadata": {},
       "output_type": "pyout",
       "prompt_number": 332,
       "text": [
        "        date             type       category  \\\n",
        "1  1/20/2015  Public Offering  Miscellaneous   \n",
        "2  1/20/2015  Public Offering  Miscellaneous   \n",
        "3  1/20/2015  Public Offering  Miscellaneous   \n",
        "4  1/20/2015      Partnership        Product   \n",
        "5  1/20/2015  Public Offering  Miscellaneous   \n",
        "\n",
        "                             source  \\\n",
        "1              Intrexon Corporation   \n",
        "2                          K2M, LLC   \n",
        "3    Keryx Biopharmaceuticals, Inc.   \n",
        "4  Nerviano Medical Sciences S.r.l.   \n",
        "5                    Verastem, Inc.   \n",
        "\n",
        "                                            investor  \\\n",
        "1                                                 --   \n",
        "2  |Ferrer Freeman & Company, LLC|Welsh, Carson, ...   \n",
        "3                                                 --   \n",
        "4                          Tiziana Life Sciences PLC   \n",
        "5                                                 --   \n",
        "\n",
        "                                          indication  \\\n",
        "1                                                 --   \n",
        "2                                                 --   \n",
        "3                                                 --   \n",
        "4  Breast Cancer,Hepatocellular Carcinoma,Oncolog...   \n",
        "5                                                 --   \n",
        "\n",
        "                                            industry  value  \\\n",
        "1  Pharmaceuticals and Biotechnology-->Biopharmac...  150.0   \n",
        "2                                    Medical Devices  143.2   \n",
        "3  Pharmaceuticals and Biotechnology-->Biopharmac...  100.0   \n",
        "4  Pharmaceuticals and Biotechnology-->Biopharmac...   41.7   \n",
        "5  Pharmaceuticals and Biotechnology-->Biopharmac...   40.0   \n",
        "\n",
        "                                            headline     status  n_dates  \\\n",
        "1  Intrexon announces public offering of common s...  Announced   735618   \n",
        "2  K2M Group Holdings announces public offering o...  Announced   735618   \n",
        "3  Keryx Biopharmaceuticals announces public offe...  Announced   735618   \n",
        "4  Tiziana Life Sciences licenses milciclib from ...  Announced   735618   \n",
        "5  Verastem announces public offering of common s...  Announced   735618   \n",
        "\n",
        "   years  \n",
        "1   2015  \n",
        "2   2015  \n",
        "3   2015  \n",
        "4   2015  \n",
        "5   2015  "
       ]
      }
     ],
     "prompt_number": 332
    },
    {
     "cell_type": "code",
     "collapsed": false,
     "input": [
      "#All deals\n",
      "df.n_dates.hist(bins=20)"
     ],
     "language": "python",
     "metadata": {},
     "outputs": [
      {
       "metadata": {},
       "output_type": "pyout",
       "prompt_number": 338,
       "text": [
        "<matplotlib.axes._subplots.AxesSubplot at 0x3a34cac8>"
       ]
      },
      {
       "metadata": {},
       "output_type": "display_data",
       "png": "[encoded data removed]",
       "text": [
        "<matplotlib.figure.Figure at 0x35262128>"
       ]
      }
     ],
     "prompt_number": 338
    },
    {
     "cell_type": "code",
     "collapsed": false,
     "input": [
      "#partnerships\n",
      "partnership = df[df.type == 'Partnership']\n",
      "partnership.n_dates.hist(bins=20)"
     ],
     "language": "python",
     "metadata": {},
     "outputs": [
      {
       "metadata": {},
       "output_type": "pyout",
       "prompt_number": 339,
       "text": [
        "<matplotlib.axes._subplots.AxesSubplot at 0x33b40550>"
       ]
      },
      {
       "metadata": {},
       "output_type": "display_data",
       "png": "[encoded data removed]",
       "text": [
        "<matplotlib.figure.Figure at 0x3452c6d8>"
       ]
      }
     ],
     "prompt_number": 339
    },
    {
     "cell_type": "code",
     "collapsed": false,
     "input": [
      "#m&a\n",
      "m_a = df[(df.type == 'Acquisition') | (df.type == 'Merger')]\n",
      "m_a.n_dates.hist(bins=20)"
     ],
     "language": "python",
     "metadata": {},
     "outputs": [
      {
       "metadata": {},
       "output_type": "pyout",
       "prompt_number": 340,
       "text": [
        "<matplotlib.axes._subplots.AxesSubplot at 0x35327438>"
       ]
      },
      {
       "metadata": {},
       "output_type": "display_data",
       "png": "[encoded data removed]",
       "text": [
        "<matplotlib.figure.Figure at 0x44a859b0>"
       ]
      }
     ],
     "prompt_number": 340
    },
    {
     "cell_type": "code",
     "collapsed": false,
     "input": [
      "#All deals without values\n",
      "df[df.value.isnull()].n_dates.hist()"
     ],
     "language": "python",
     "metadata": {},
     "outputs": [
      {
       "metadata": {},
       "output_type": "pyout",
       "prompt_number": 341,
       "text": [
        "<matplotlib.axes._subplots.AxesSubplot at 0x3774f588>"
       ]
      },
      {
       "metadata": {},
       "output_type": "display_data",
       "png": "[encoded data removed]",
       "text": [
        "<matplotlib.figure.Figure at 0x34862b70>"
       ]
      }
     ],
     "prompt_number": 341
    },
    {
     "cell_type": "code",
     "collapsed": false,
     "input": [
      "df_val = df.dropna(subset=['value'])\n",
      "df_val.groupby('years').value.mean()"
     ],
     "language": "python",
     "metadata": {},
     "outputs": [
      {
       "metadata": {},
       "output_type": "pyout",
       "prompt_number": 370,
       "text": [
        "years\n",
        "2008      64.0\n",
        "2009      60.3\n",
        "2010      53.5\n",
        "2011      71.2\n",
        "2012      73.8\n",
        "2013      60.6\n",
        "2014     162.8\n",
        "2015     184.1\n",
        "Name: value, dtype: float64"
       ]
      }
     ],
     "prompt_number": 370
    },
    {
     "cell_type": "code",
     "collapsed": false,
     "input": [],
     "language": "python",
     "metadata": {},
     "outputs": []
    },
    {
     "cell_type": "code",
     "collapsed": false,
     "input": [
      "#deals greater than 1B\n",
      "billvals = df_val[df_val['value']>= 1000]\n",
      "billvals.groupby('years').value.count()"
     ],
     "language": "python",
     "metadata": {},
     "outputs": [
      {
       "metadata": {},
       "output_type": "pyout",
       "prompt_number": 381,
       "text": [
        "years\n",
        "2008     15\n",
        "2009     30\n",
        "2010     49\n",
        "2011     50\n",
        "2012     63\n",
        "2013     40\n",
        "2014     80\n",
        "2015      8\n",
        "Name: value, dtype: int64"
       ]
      }
     ],
     "prompt_number": 381
    },
    {
     "cell_type": "code",
     "collapsed": false,
     "input": [
      "#m&a w/ values\n",
      "ma_val = df_val[(df.type == 'Acquisition') | (df.type == 'Merger')]\n",
      "ma_val[ma_val['value']>= 500]"
     ],
     "language": "python",
     "metadata": {},
     "outputs": [
      {
       "html": [
        "<div style=\"max-height:1000px;max-width:1500px;overflow:auto;\">\n",
        "<table border=\"1\" class=\"dataframe\">\n",
        "  <thead>\n",
        "    <tr style=\"text-align: right;\">\n",
        "      <th></th>\n",
        "      <th>date</th>\n",
        "      <th>type</th>\n",
        "      <th>category</th>\n",
        "      <th>source</th>\n",
        "      <th>investor</th>\n",
        "      <th>indication</th>\n",
        "      <th>industry</th>\n",
        "      <th>value</th>\n",
        "      <th>headline</th>\n",
        "      <th>status</th>\n",
        "      <th>n_dates</th>\n",
        "    </tr>\n",
        "  </thead>\n",
        "  <tbody>\n",
        "    <tr>\n",
        "      <th>36   </th>\n",
        "      <td> 1/16/2015</td>\n",
        "      <td> Acquisition</td>\n",
        "      <td> Miscellaneous</td>\n",
        "      <td>                        Trophos SA</td>\n",
        "      <td>                Roche Holding, Ltd.</td>\n",
        "      <td> --</td>\n",
        "      <td> Pharmaceuticals and Biotechnology--&gt;Pharmaceut...</td>\n",
        "      <td>  550.7</td>\n",
        "      <td>                          Roche to acquire Trophos</td>\n",
        "      <td> Announced</td>\n",
        "      <td> 735614</td>\n",
        "    </tr>\n",
        "    <tr>\n",
        "      <th>106  </th>\n",
        "      <td> 1/13/2015</td>\n",
        "      <td> Acquisition</td>\n",
        "      <td> Miscellaneous</td>\n",
        "      <td>      AVANIR Pharmaceuticals, Inc.</td>\n",
        "      <td>    Otsuka Pharmaceutical Co., Ltd.</td>\n",
        "      <td> --</td>\n",
        "      <td> Pharmaceuticals and Biotechnology--&gt;Biopharmac...</td>\n",
        "      <td> 3560.0</td>\n",
        "      <td> Otsuka Pharmaceutical acquires Avanir Pharmace...</td>\n",
        "      <td> Completed</td>\n",
        "      <td> 735611</td>\n",
        "    </tr>\n",
        "    <tr>\n",
        "      <th>150  </th>\n",
        "      <td> 1/12/2015</td>\n",
        "      <td> Acquisition</td>\n",
        "      <td> Miscellaneous</td>\n",
        "      <td>         Foundation Medicine, Inc.</td>\n",
        "      <td>                Roche Holding, Ltd.</td>\n",
        "      <td> --</td>\n",
        "      <td> Enabling/ Drug Discovery Technologies, Pharmac...</td>\n",
        "      <td>  780.0</td>\n",
        "      <td> Roche Holding to acquire majority stake in Fou...</td>\n",
        "      <td> Announced</td>\n",
        "      <td> 735610</td>\n",
        "    </tr>\n",
        "    <tr>\n",
        "      <th>203  </th>\n",
        "      <td> 1/11/2015</td>\n",
        "      <td> Acquisition</td>\n",
        "      <td> Miscellaneous</td>\n",
        "      <td>         NPS Pharmaceuticals, Inc.</td>\n",
        "      <td> Shire plc (formerly Shire Limited)</td>\n",
        "      <td> --</td>\n",
        "      <td> Pharmaceuticals and Biotechnology--&gt;Biopharmac...</td>\n",
        "      <td> 5200.0</td>\n",
        "      <td>              Shire to acquire NPS Pharmaceuticals</td>\n",
        "      <td> Announced</td>\n",
        "      <td> 735609</td>\n",
        "    </tr>\n",
        "    <tr>\n",
        "      <th>204  </th>\n",
        "      <td> 1/11/2015</td>\n",
        "      <td> Acquisition</td>\n",
        "      <td> Miscellaneous</td>\n",
        "      <td> Convergence Pharmaceuticals, Ltd.</td>\n",
        "      <td>                  Biogen Idec, Inc.</td>\n",
        "      <td> --</td>\n",
        "      <td> Pharmaceuticals and Biotechnology--&gt;Biopharmac...</td>\n",
        "      <td>  675.0</td>\n",
        "      <td> Biogen Idec to acquire Convergence Pharmaceuti...</td>\n",
        "      <td> Announced</td>\n",
        "      <td> 735609</td>\n",
        "    </tr>\n",
        "    <tr>\n",
        "      <th>...</th>\n",
        "      <td>...</td>\n",
        "      <td>...</td>\n",
        "      <td>...</td>\n",
        "      <td>...</td>\n",
        "      <td>...</td>\n",
        "      <td>...</td>\n",
        "      <td>...</td>\n",
        "      <td>...</td>\n",
        "      <td>...</td>\n",
        "      <td>...</td>\n",
        "      <td>...</td>\n",
        "    </tr>\n",
        "    <tr>\n",
        "      <th>58601</th>\n",
        "      <td> 9/25/2008</td>\n",
        "      <td> Acquisition</td>\n",
        "      <td> Miscellaneous</td>\n",
        "      <td>                       Acambis plc</td>\n",
        "      <td>                  Sanofi Pasteur SA</td>\n",
        "      <td> --</td>\n",
        "      <td>                 Pharmaceuticals and Biotechnology</td>\n",
        "      <td>  528.5</td>\n",
        "      <td>                   Sanofi Pasteur acquires Acambis</td>\n",
        "      <td> Completed</td>\n",
        "      <td> 733310</td>\n",
        "    </tr>\n",
        "    <tr>\n",
        "      <th>58898</th>\n",
        "      <td> 9/10/2008</td>\n",
        "      <td> Acquisition</td>\n",
        "      <td> Miscellaneous</td>\n",
        "      <td>         APP Pharmaceuticals, Inc.</td>\n",
        "      <td>                  Fresenius Kabi AG</td>\n",
        "      <td> --</td>\n",
        "      <td>                 Pharmaceuticals and Biotechnology</td>\n",
        "      <td> 5600.0</td>\n",
        "      <td>         Fresenius SE acquires APP Pharmaceuticals</td>\n",
        "      <td> Completed</td>\n",
        "      <td> 733295</td>\n",
        "    </tr>\n",
        "    <tr>\n",
        "      <th>59105</th>\n",
        "      <td>  9/1/2008</td>\n",
        "      <td> Acquisition</td>\n",
        "      <td> Miscellaneous</td>\n",
        "      <td>   Symbion CP Holdings Pty Limited</td>\n",
        "      <td> Sanofi-aventis Australia Pty, Ltd.</td>\n",
        "      <td> --</td>\n",
        "      <td>                 Pharmaceuticals and Biotechnology</td>\n",
        "      <td>  543.7</td>\n",
        "      <td> Sanofi-Aventis Australia acquires Symbion Cons...</td>\n",
        "      <td> Completed</td>\n",
        "      <td> 733286</td>\n",
        "    </tr>\n",
        "    <tr>\n",
        "      <th>59217</th>\n",
        "      <td> 8/25/2008</td>\n",
        "      <td> Acquisition</td>\n",
        "      <td> Miscellaneous</td>\n",
        "      <td>   Bacteria Sciences Worldwide LLC</td>\n",
        "      <td>          DLM Capital Investors LLC</td>\n",
        "      <td> --</td>\n",
        "      <td> Consumer, OTC and Nutritional Products--&gt;Vitam...</td>\n",
        "      <td> 1000.0</td>\n",
        "      <td> DLM Capital Investors to acquire 30% stake in ...</td>\n",
        "      <td> Completed</td>\n",
        "      <td> 733279</td>\n",
        "    </tr>\n",
        "    <tr>\n",
        "      <th>59813</th>\n",
        "      <td> 7/24/2008</td>\n",
        "      <td> Acquisition</td>\n",
        "      <td> Miscellaneous</td>\n",
        "      <td>     Third Wave Technologies, Inc.</td>\n",
        "      <td>                      Hologic, Inc.</td>\n",
        "      <td> --</td>\n",
        "      <td>                                   Medical Devices</td>\n",
        "      <td>  580.0</td>\n",
        "      <td>          Hologic acquires Third Wave Technologies</td>\n",
        "      <td> Completed</td>\n",
        "      <td> 733247</td>\n",
        "    </tr>\n",
        "  </tbody>\n",
        "</table>\n",
        "<p>337 rows \u00d7 11 columns</p>\n",
        "</div>"
       ],
       "metadata": {},
       "output_type": "pyout",
       "prompt_number": 322,
       "text": [
        "            date         type       category  \\\n",
        "36     1/16/2015  Acquisition  Miscellaneous   \n",
        "106    1/13/2015  Acquisition  Miscellaneous   \n",
        "150    1/12/2015  Acquisition  Miscellaneous   \n",
        "203    1/11/2015  Acquisition  Miscellaneous   \n",
        "204    1/11/2015  Acquisition  Miscellaneous   \n",
        "...          ...          ...            ...   \n",
        "58601  9/25/2008  Acquisition  Miscellaneous   \n",
        "58898  9/10/2008  Acquisition  Miscellaneous   \n",
        "59105   9/1/2008  Acquisition  Miscellaneous   \n",
        "59217  8/25/2008  Acquisition  Miscellaneous   \n",
        "59813  7/24/2008  Acquisition  Miscellaneous   \n",
        "\n",
        "                                  source                            investor  \\\n",
        "36                            Trophos SA                 Roche Holding, Ltd.   \n",
        "106         AVANIR Pharmaceuticals, Inc.     Otsuka Pharmaceutical Co., Ltd.   \n",
        "150            Foundation Medicine, Inc.                 Roche Holding, Ltd.   \n",
        "203            NPS Pharmaceuticals, Inc.  Shire plc (formerly Shire Limited)   \n",
        "204    Convergence Pharmaceuticals, Ltd.                   Biogen Idec, Inc.   \n",
        "...                                  ...                                 ...   \n",
        "58601                        Acambis plc                   Sanofi Pasteur SA   \n",
        "58898          APP Pharmaceuticals, Inc.                   Fresenius Kabi AG   \n",
        "59105    Symbion CP Holdings Pty Limited  Sanofi-aventis Australia Pty, Ltd.   \n",
        "59217    Bacteria Sciences Worldwide LLC           DLM Capital Investors LLC   \n",
        "59813      Third Wave Technologies, Inc.                       Hologic, Inc.   \n",
        "\n",
        "      indication                                           industry   value  \\\n",
        "36            --  Pharmaceuticals and Biotechnology-->Pharmaceut...   550.7   \n",
        "106           --  Pharmaceuticals and Biotechnology-->Biopharmac...  3560.0   \n",
        "150           --  Enabling/ Drug Discovery Technologies, Pharmac...   780.0   \n",
        "203           --  Pharmaceuticals and Biotechnology-->Biopharmac...  5200.0   \n",
        "204           --  Pharmaceuticals and Biotechnology-->Biopharmac...   675.0   \n",
        "...          ...                                                ...     ...   \n",
        "58601         --                  Pharmaceuticals and Biotechnology   528.5   \n",
        "58898         --                  Pharmaceuticals and Biotechnology  5600.0   \n",
        "59105         --                  Pharmaceuticals and Biotechnology   543.7   \n",
        "59217         --  Consumer, OTC and Nutritional Products-->Vitam...  1000.0   \n",
        "59813         --                                    Medical Devices   580.0   \n",
        "\n",
        "                                                headline     status  n_dates  \n",
        "36                              Roche to acquire Trophos  Announced   735614  \n",
        "106    Otsuka Pharmaceutical acquires Avanir Pharmace...  Completed   735611  \n",
        "150    Roche Holding to acquire majority stake in Fou...  Announced   735610  \n",
        "203                 Shire to acquire NPS Pharmaceuticals  Announced   735609  \n",
        "204    Biogen Idec to acquire Convergence Pharmaceuti...  Announced   735609  \n",
        "...                                                  ...        ...      ...  \n",
        "58601                    Sanofi Pasteur acquires Acambis  Completed   733310  \n",
        "58898          Fresenius SE acquires APP Pharmaceuticals  Completed   733295  \n",
        "59105  Sanofi-Aventis Australia acquires Symbion Cons...  Completed   733286  \n",
        "59217  DLM Capital Investors to acquire 30% stake in ...  Completed   733279  \n",
        "59813           Hologic acquires Third Wave Technologies  Completed   733247  \n",
        "\n",
        "[337 rows x 11 columns]"
       ]
      }
     ],
     "prompt_number": 322
    },
    {
     "cell_type": "code",
     "collapsed": false,
     "input": [
      "df_pharma = df_val[df_val.industry.str.contains('pharma', case=False)]\n",
      "#total pharma\n",
      "df_pharma.n_dates.hist()"
     ],
     "language": "python",
     "metadata": {},
     "outputs": [
      {
       "metadata": {},
       "output_type": "pyout",
       "prompt_number": 294,
       "text": [
        "<matplotlib.axes._subplots.AxesSubplot at 0x3c790198>"
       ]
      },
      {
       "metadata": {},
       "output_type": "display_data",
       "png": "[encoded data removed]",
       "text": [
        "<matplotlib.figure.Figure at 0x3e536da0>"
       ]
      }
     ],
     "prompt_number": 294
    },
    {
     "cell_type": "code",
     "collapsed": false,
     "input": [
      "#pharma deals greater than 1B\n",
      "df_pharma[df_pharma['value']>=1000].n_dates.hist(bins=10)"
     ],
     "language": "python",
     "metadata": {},
     "outputs": [
      {
       "metadata": {},
       "output_type": "pyout",
       "prompt_number": 291,
       "text": [
        "<matplotlib.axes._subplots.AxesSubplot at 0x3c99da20>"
       ]
      },
      {
       "metadata": {},
       "output_type": "display_data",
       "png": "[encoded data removed]",
       "text": [
        "<matplotlib.figure.Figure at 0x3b38ec18>"
       ]
      }
     ],
     "prompt_number": 291
    },
    {
     "cell_type": "code",
     "collapsed": false,
     "input": [
      "#medical deals deals greater than 500M\n",
      "df_med = df_val[df_val.industry.str.contains('device', case=False)]\n",
      "df_med[df_med['value']>=1000].n_dates.hist(bins=10)"
     ],
     "language": "python",
     "metadata": {},
     "outputs": [
      {
       "metadata": {},
       "output_type": "pyout",
       "prompt_number": 293,
       "text": [
        "<matplotlib.axes._subplots.AxesSubplot at 0x3c79fcc0>"
       ]
      },
      {
       "metadata": {},
       "output_type": "display_data",
       "png": "[encoded data removed]",
       "text": [
        "<matplotlib.figure.Figure at 0x419a6278>"
       ]
      }
     ],
     "prompt_number": 293
    },
    {
     "cell_type": "code",
     "collapsed": false,
     "input": [
      "plt.scatter(df_med.n_dates, df_med.value)"
     ],
     "language": "python",
     "metadata": {},
     "outputs": [
      {
       "metadata": {},
       "output_type": "pyout",
       "prompt_number": 298,
       "text": [
        "<matplotlib.collections.PathCollection at 0x3d351ef0>"
       ]
      },
      {
       "metadata": {},
       "output_type": "display_data",
       "png": "[encoded data removed]",
       "text": [
        "<matplotlib.figure.Figure at 0x3aa99f98>"
       ]
      }
     ],
     "prompt_number": 298
    },
    {
     "cell_type": "code",
     "collapsed": false,
     "input": [],
     "language": "python",
     "metadata": {},
     "outputs": []
    }
   ],
   "metadata": {}
  }
 ]
}
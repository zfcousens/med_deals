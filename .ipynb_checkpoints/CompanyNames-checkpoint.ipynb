{
 "metadata": {
  "name": "",
  "signature": "sha256:77cb0ff557b6217317cb804bc14beff483faca79fa8ded5ecffb96ff26d3b3cc"
 },
 "nbformat": 3,
 "nbformat_minor": 0,
 "worksheets": [
  {
   "cells": [
    {
     "cell_type": "code",
     "collapsed": false,
     "input": [
      "# Import Pandas, Numpy, Matplotlib, and Sqlite3\n",
      "import pandas as pd\n",
      "import numpy as np\n",
      "#import matplotlib.pyplot as plt\n",
      "import sqlite3\n",
      "from seaborn import plt\n",
      "from matplotlib.dates import date2num, num2date\n",
      "\n",
      "# This enables inline Plots\n",
      "%matplotlib inline"
     ],
     "language": "python",
     "metadata": {},
     "outputs": [],
     "prompt_number": 2
    },
    {
     "cell_type": "code",
     "collapsed": false,
     "input": [
      "data_file = 'Medtrack_Deals-MA-Private_21Jan2015.csv'\n",
      "#Add new column names, initial col names had spaces and slashes\n",
      "df_cols = ['date', 'category', 'acquirer', 'target', 'value', 'headline']\n",
      "df = pd.read_csv(data_file, sep=',', names = df_cols)\n",
      "#Remove initial col names, anything w/o date\n",
      "df = df[1:].dropna(subset=['date', 'value'])\n",
      "df.head()"
     ],
     "language": "python",
     "metadata": {},
     "outputs": [
      {
       "html": [
        "<div style=\"max-height:1000px;max-width:1500px;overflow:auto;\">\n",
        "<table border=\"1\" class=\"dataframe\">\n",
        "  <thead>\n",
        "    <tr style=\"text-align: right;\">\n",
        "      <th></th>\n",
        "      <th>date</th>\n",
        "      <th>category</th>\n",
        "      <th>acquirer</th>\n",
        "      <th>target</th>\n",
        "      <th>value</th>\n",
        "      <th>headline</th>\n",
        "    </tr>\n",
        "  </thead>\n",
        "  <tbody>\n",
        "    <tr>\n",
        "      <th>2</th>\n",
        "      <td>  1/16/2015</td>\n",
        "      <td>                   Majority Acquisition</td>\n",
        "      <td>                               Roche Holding, Ltd.</td>\n",
        "      <td>                                     Trophos SA</td>\n",
        "      <td> 550.70 </td>\n",
        "      <td>                          Roche to acquire Trophos</td>\n",
        "    </tr>\n",
        "    <tr>\n",
        "      <th>4</th>\n",
        "      <td>  2/24/2010</td>\n",
        "      <td>                       100% Acquisition</td>\n",
        "      <td>                                 Proteonomix, Inc.</td>\n",
        "      <td>                                StromaCel, Inc.</td>\n",
        "      <td>   0.00 </td>\n",
        "      <td>                    Proteonomix acquires StromaCel</td>\n",
        "    </tr>\n",
        "    <tr>\n",
        "      <th>5</th>\n",
        "      <td>  1/15/2015</td>\n",
        "      <td> DIRECT INVESTMENT,Minority Acquisition</td>\n",
        "      <td> Crestline Investors, Inc.|Harbert Venture Part...</td>\n",
        "      <td> Clinipace Worldwide (formerly Clinipace, Inc.)</td>\n",
        "      <td>  50.00 </td>\n",
        "      <td> Clinipace Worldwide raises $50 million in fina...</td>\n",
        "    </tr>\n",
        "    <tr>\n",
        "      <th>6</th>\n",
        "      <td> 12/31/2009</td>\n",
        "      <td>                       100% Acquisition</td>\n",
        "      <td>                      Simcere Pharmaceutical Group</td>\n",
        "      <td>                                       ChinaVax</td>\n",
        "      <td>   0.00 </td>\n",
        "      <td>          Simcere Pharmaceutical acquires ChinaVax</td>\n",
        "    </tr>\n",
        "    <tr>\n",
        "      <th>8</th>\n",
        "      <td>  1/14/2015</td>\n",
        "      <td> DIRECT INVESTMENT,Minority Acquisition</td>\n",
        "      <td> Imperial Innovations Group PLC|INVESCO Asset M...</td>\n",
        "      <td>                          Veryan Holdings, Ltd.</td>\n",
        "      <td>  27.30 </td>\n",
        "      <td> Veryan Holdings raises $27.282 million in Seri...</td>\n",
        "    </tr>\n",
        "  </tbody>\n",
        "</table>\n",
        "</div>"
       ],
       "metadata": {},
       "output_type": "pyout",
       "prompt_number": 3,
       "text": [
        "         date                                category  \\\n",
        "2   1/16/2015                    Majority Acquisition   \n",
        "4   2/24/2010                        100% Acquisition   \n",
        "5   1/15/2015  DIRECT INVESTMENT,Minority Acquisition   \n",
        "6  12/31/2009                        100% Acquisition   \n",
        "8   1/14/2015  DIRECT INVESTMENT,Minority Acquisition   \n",
        "\n",
        "                                            acquirer  \\\n",
        "2                                Roche Holding, Ltd.   \n",
        "4                                  Proteonomix, Inc.   \n",
        "5  Crestline Investors, Inc.|Harbert Venture Part...   \n",
        "6                       Simcere Pharmaceutical Group   \n",
        "8  Imperial Innovations Group PLC|INVESCO Asset M...   \n",
        "\n",
        "                                           target    value  \\\n",
        "2                                      Trophos SA  550.70    \n",
        "4                                 StromaCel, Inc.    0.00    \n",
        "5  Clinipace Worldwide (formerly Clinipace, Inc.)   50.00    \n",
        "6                                        ChinaVax    0.00    \n",
        "8                           Veryan Holdings, Ltd.   27.30    \n",
        "\n",
        "                                            headline  \n",
        "2                           Roche to acquire Trophos  \n",
        "4                     Proteonomix acquires StromaCel  \n",
        "5  Clinipace Worldwide raises $50 million in fina...  \n",
        "6           Simcere Pharmaceutical acquires ChinaVax  \n",
        "8  Veryan Holdings raises $27.282 million in Seri...  "
       ]
      }
     ],
     "prompt_number": 3
    },
    {
     "cell_type": "code",
     "collapsed": false,
     "input": [
      "ref_file = 'USA_sp500_symbols.csv'\n",
      "#Add new column names, initial col names had spaces and slashes\n",
      "ref_cols = ['name', 'symbol']\n",
      "ref = pd.read_csv(ref_file, sep=',', names = ref_cols)\n",
      "ref.head()"
     ],
     "language": "python",
     "metadata": {},
     "outputs": [
      {
       "html": [
        "<div style=\"max-height:1000px;max-width:1500px;overflow:auto;\">\n",
        "<table border=\"1\" class=\"dataframe\">\n",
        "  <thead>\n",
        "    <tr style=\"text-align: right;\">\n",
        "      <th></th>\n",
        "      <th>name</th>\n",
        "      <th>symbol</th>\n",
        "    </tr>\n",
        "  </thead>\n",
        "  <tbody>\n",
        "    <tr>\n",
        "      <th>0</th>\n",
        "      <td> Constituent Name</td>\n",
        "      <td> Constituent Symbol</td>\n",
        "    </tr>\n",
        "    <tr>\n",
        "      <th>1</th>\n",
        "      <td>            3M Co</td>\n",
        "      <td>               MMM </td>\n",
        "    </tr>\n",
        "    <tr>\n",
        "      <th>2</th>\n",
        "      <td>      ACE Limited</td>\n",
        "      <td>               ACE </td>\n",
        "    </tr>\n",
        "    <tr>\n",
        "      <th>3</th>\n",
        "      <td>         AES Corp</td>\n",
        "      <td>               AES </td>\n",
        "    </tr>\n",
        "    <tr>\n",
        "      <th>4</th>\n",
        "      <td>        AFLAC Inc</td>\n",
        "      <td>               AFL </td>\n",
        "    </tr>\n",
        "  </tbody>\n",
        "</table>\n",
        "</div>"
       ],
       "metadata": {},
       "output_type": "pyout",
       "prompt_number": 4,
       "text": [
        "               name              symbol\n",
        "0  Constituent Name  Constituent Symbol\n",
        "1             3M Co                MMM \n",
        "2       ACE Limited                ACE \n",
        "3          AES Corp                AES \n",
        "4         AFLAC Inc                AFL "
       ]
      }
     ],
     "prompt_number": 4
    },
    {
     "cell_type": "code",
     "collapsed": false,
     "input": [
      "#Try to match acquirer companies with names in reference\n",
      "y=[]\n",
      "string = 'AES'\n",
      "for i in range(len(ref)):\n",
      "    if string in ref.name[i]:\n",
      "        y.append(ref.symbol[i])\n",
      "y"
     ],
     "language": "python",
     "metadata": {},
     "outputs": [
      {
       "metadata": {},
       "output_type": "pyout",
       "prompt_number": 7,
       "text": [
        "['AES ']"
       ]
      }
     ],
     "prompt_number": 7
    },
    {
     "cell_type": "code",
     "collapsed": false,
     "input": [],
     "language": "python",
     "metadata": {},
     "outputs": []
    }
   ],
   "metadata": {}
  }
 ]
}